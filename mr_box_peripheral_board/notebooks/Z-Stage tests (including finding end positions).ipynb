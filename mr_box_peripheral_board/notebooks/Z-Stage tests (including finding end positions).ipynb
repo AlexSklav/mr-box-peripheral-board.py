{
 "cells": [
  {
   "cell_type": "code",
   "execution_count": 1,
   "metadata": {},
   "outputs": [
    {
     "name": "stderr",
     "output_type": "stream",
     "text": [
      "DEBUG:base_node_rpc.proxy:Attempt to connect to device on port COM14 (baudrate=57600)\n",
      "DEBUG:serial_device.threaded:Open `COM14` and monitor connection status\n",
      "DEBUG:serial_device.threaded:connection_made: `COM14` `<ReaderThread(Thread-7, started daemon 5860)>`\n",
      "DEBUG:base_node_rpc.proxy:Wait for connection to port COM14\n",
      "INFO:base_node_rpc.proxy:Successfully connected to mr-box-peripheral-board on port COM14\n"
     ]
    }
   ],
   "source": [
    "import logging; logging.basicConfig(level=logging.DEBUG)\n",
    "import time\n",
    "\n",
    "import ipywidgets as ipyw\n",
    "import mr_box_peripheral_board as mrbox\n",
    "\n",
    "proxy = mrbox.SerialProxy(port='COM14', baudrate=57600, settling_time_s=2.5)\n",
    "proxy._timeout_s = 20\n",
    "proxy.zstage.motor_enabled = True\n",
    "proxy.zstage.home_stop_enabled = True\n",
    "proxy.zstage.micro_stepping = True"
   ]
  },
  {
   "cell_type": "code",
   "execution_count": 3,
   "metadata": {
    "scrolled": false
   },
   "outputs": [
    {
     "data": {
      "application/vnd.jupyter.widget-view+json": {
       "model_id": "c0d71acdc9a148fcb70767f97968f611"
      }
     },
     "metadata": {},
     "output_type": "display_data"
    }
   ],
   "source": [
    "def zstage_move_to(position):\n",
    "    proxy.zstage.motor_enabled = True\n",
    "    proxy.zstage_move_to(position)\n",
    "    proxy.zstage.motor_enabled = False\n",
    "    \n",
    "\n",
    "zstage_range = ipyw.FloatRangeSlider(min=0, max=11, step=.1, value=(0, 10.1),\n",
    "                                    description='position range:')\n",
    "def zstage_range_changed(message):\n",
    "    if message['old'][0] == message['new'][0]:\n",
    "        # Range **max** has changed.\n",
    "        if zstage_state.value == 'up':\n",
    "            # Magnet is in \"up\" position.  Move magnet to new range max position.\n",
    "            zstage_move_to(message['new'][1])\n",
    "    else:\n",
    "        # Range **min** has changed.\n",
    "        if zstage_state.value in 'down':\n",
    "            # Magnet is in \"down\" position.  Move magnet to new range min position.\n",
    "            zstage_move_to(message['new'][0])\n",
    "zstage_range.observe(zstage_range_changed, names=['value'])\n",
    "\n",
    "def _zstage_home(*args):\n",
    "    home_retry_count = 10\n",
    "    proxy.zstage.motor_enabled = True\n",
    "    try:\n",
    "        for i in xrange(home_retry_count):\n",
    "            proxy.zstage_home()\n",
    "            time.sleep(1.5)\n",
    "            if proxy.zstage_at_home():\n",
    "                break\n",
    "        else:\n",
    "            raise RuntimeError('Error homing after %s attempts.' %\n",
    "                               home_retry_count)\n",
    "    finally:\n",
    "        proxy.zstage.motor_enabled = True\n",
    "    zstage_state.value = 'down'\n",
    "\n",
    "zstage_home = ipyw.Button(description='Home')\n",
    "zstage_home.on_click(_zstage_home)\n",
    "\n",
    "def _zstage_state(message):\n",
    "    min_, max_ = zstage_range.value\n",
    "    if message['new'] == 'up':\n",
    "        # Engage magnet.\n",
    "        position = max_\n",
    "        zstage_state.value = 'up'\n",
    "    else:\n",
    "        # Disengage magnet.\n",
    "        position = min_\n",
    "        zstage_state.value = 'down'\n",
    "    zstage_move_to(position)\n",
    "\n",
    "zstage_state = ipyw.RadioButtons(options=['down', 'up'])\n",
    "zstage_state.observe(_zstage_state, names=['value'])\n",
    "\n",
    "_zstage_home()\n",
    "ipyw.VBox([zstage_home, zstage_range, zstage_state])"
   ]
  }
 ],
 "metadata": {
  "kernelspec": {
   "display_name": "Python 2",
   "language": "python",
   "name": "python2"
  },
  "language_info": {
   "codemirror_mode": {
    "name": "ipython",
    "version": 2
   },
   "file_extension": ".py",
   "mimetype": "text/x-python",
   "name": "python",
   "nbconvert_exporter": "python",
   "pygments_lexer": "ipython2",
   "version": "2.7.13"
  },
  "toc": {
   "colors": {
    "hover_highlight": "#DAA520",
    "navigate_num": "#000000",
    "navigate_text": "#333333",
    "running_highlight": "#FF0000",
    "selected_highlight": "#FFD700",
    "sidebar_border": "#EEEEEE",
    "wrapper_background": "#FFFFFF"
   },
   "moveMenuLeft": true,
   "nav_menu": {
    "height": "12px",
    "width": "252px"
   },
   "navigate_menu": true,
   "number_sections": true,
   "sideBar": true,
   "threshold": 4,
   "toc_cell": false,
   "toc_section_display": "block",
   "toc_window_display": false,
   "widenNotebook": false
  },
  "widgets": {
   "application/vnd.jupyter.widget-state+json": {
    "state": {
     "144f755371e64219942b8a145a21147b": {
      "model_module": "jupyter-js-widgets",
      "model_module_version": "~2.1.4",
      "model_name": "FloatSliderModel",
      "state": {
       "_model_module_version": "~2.1.4",
       "_range": true,
       "_view_module_version": "~2.1.4",
       "description": "position range:",
       "layout": "IPY_MODEL_7c91db09e275400c8bf4670fb9262ac0",
       "max": 11,
       "step": 0.1,
       "value": [
        0,
        10.1
       ]
      }
     },
     "27df84bc4b9a43cea9009885fb4d708e": {
      "model_module": "jupyter-js-widgets",
      "model_module_version": "~2.1.4",
      "model_name": "LayoutModel",
      "state": {
       "_model_module_version": "~2.1.4",
       "_view_module_version": "~2.1.4"
      }
     },
     "42e763cd998d497fa83b5be4ff1fe4fd": {
      "model_module": "jupyter-js-widgets",
      "model_module_version": "~2.1.4",
      "model_name": "LayoutModel",
      "state": {
       "_model_module_version": "~2.1.4",
       "_view_module_version": "~2.1.4"
      }
     },
     "5ad2b2f66b8d4eb5b6b5270e688fbdf3": {
      "model_module": "jupyter-js-widgets",
      "model_module_version": "~2.1.4",
      "model_name": "RadioButtonsModel",
      "state": {
       "_model_module_version": "~2.1.4",
       "_options_labels": [
        "down",
        "up"
       ],
       "_view_module_version": "~2.1.4",
       "layout": "IPY_MODEL_da16261cd1c0404ca82175d82bbf84f1",
       "value": "down"
      }
     },
     "6b7ab191ac8f44e9a19a0a7c6ba34a02": {
      "model_module": "jupyter-js-widgets",
      "model_module_version": "~2.1.4",
      "model_name": "ButtonModel",
      "state": {
       "_model_module_version": "~2.1.4",
       "_view_module_version": "~2.1.4",
       "description": "Home",
       "layout": "IPY_MODEL_a149d7ec083940fdb8fccb813fba2a3d",
       "style": "IPY_MODEL_f0c8347f836c4f1cae442d1d239a8941"
      }
     },
     "74572dc93316426288e2cecf2270c1f8": {
      "model_module": "jupyter-js-widgets",
      "model_module_version": "~2.1.4",
      "model_name": "LayoutModel",
      "state": {
       "_model_module_version": "~2.1.4",
       "_view_module_version": "~2.1.4"
      }
     },
     "7c91db09e275400c8bf4670fb9262ac0": {
      "model_module": "jupyter-js-widgets",
      "model_module_version": "~2.1.4",
      "model_name": "LayoutModel",
      "state": {
       "_model_module_version": "~2.1.4",
       "_view_module_version": "~2.1.4"
      }
     },
     "7eac37588da3465b8d5b4be05fd0c55d": {
      "model_module": "jupyter-js-widgets",
      "model_module_version": "~2.1.4",
      "model_name": "ButtonStyleModel",
      "state": {
       "_model_module_version": "~2.1.4",
       "_view_module_version": "~2.1.4"
      }
     },
     "806970bbf877444880b6ee4503b38079": {
      "model_module": "jupyter-js-widgets",
      "model_module_version": "~2.1.4",
      "model_name": "LayoutModel",
      "state": {
       "_model_module_version": "~2.1.4",
       "_view_module_version": "~2.1.4"
      }
     },
     "8be444107f7c49668bc516714ca54a23": {
      "model_module": "jupyter-js-widgets",
      "model_module_version": "~2.1.4",
      "model_name": "LayoutModel",
      "state": {
       "_model_module_version": "~2.1.4",
       "_view_module_version": "~2.1.4"
      }
     },
     "99cf3d9e13814c3e812a88d9831dd50e": {
      "model_module": "jupyter-js-widgets",
      "model_module_version": "~2.1.4",
      "model_name": "FloatSliderModel",
      "state": {
       "_model_module_version": "~2.1.4",
       "_range": true,
       "_view_module_version": "~2.1.4",
       "description": "position range:",
       "layout": "IPY_MODEL_27df84bc4b9a43cea9009885fb4d708e",
       "max": 11,
       "step": 0.1,
       "value": [
        0,
        10.1
       ]
      }
     },
     "a149d7ec083940fdb8fccb813fba2a3d": {
      "model_module": "jupyter-js-widgets",
      "model_module_version": "~2.1.4",
      "model_name": "LayoutModel",
      "state": {
       "_model_module_version": "~2.1.4",
       "_view_module_version": "~2.1.4"
      }
     },
     "a7e9d8f6ed4247528bfb01b6b3de0618": {
      "model_module": "jupyter-js-widgets",
      "model_module_version": "~2.1.4",
      "model_name": "RadioButtonsModel",
      "state": {
       "_model_module_version": "~2.1.4",
       "_options_labels": [
        "down",
        "up"
       ],
       "_view_module_version": "~2.1.4",
       "layout": "IPY_MODEL_42e763cd998d497fa83b5be4ff1fe4fd",
       "value": "down"
      }
     },
     "c0d71acdc9a148fcb70767f97968f611": {
      "model_module": "jupyter-js-widgets",
      "model_module_version": "~2.1.4",
      "model_name": "VBoxModel",
      "state": {
       "_model_module_version": "~2.1.4",
       "_view_module_version": "~2.1.4",
       "children": [
        "IPY_MODEL_f31acfd36e4546a283756dc38eb35050",
        "IPY_MODEL_99cf3d9e13814c3e812a88d9831dd50e",
        "IPY_MODEL_5ad2b2f66b8d4eb5b6b5270e688fbdf3"
       ],
       "layout": "IPY_MODEL_8be444107f7c49668bc516714ca54a23"
      }
     },
     "da16261cd1c0404ca82175d82bbf84f1": {
      "model_module": "jupyter-js-widgets",
      "model_module_version": "~2.1.4",
      "model_name": "LayoutModel",
      "state": {
       "_model_module_version": "~2.1.4",
       "_view_module_version": "~2.1.4"
      }
     },
     "e6ccdedaf99141f497c2327a1b2f7264": {
      "model_module": "jupyter-js-widgets",
      "model_module_version": "~2.1.4",
      "model_name": "VBoxModel",
      "state": {
       "_model_module_version": "~2.1.4",
       "_view_module_version": "~2.1.4",
       "children": [
        "IPY_MODEL_6b7ab191ac8f44e9a19a0a7c6ba34a02",
        "IPY_MODEL_144f755371e64219942b8a145a21147b",
        "IPY_MODEL_a7e9d8f6ed4247528bfb01b6b3de0618"
       ],
       "layout": "IPY_MODEL_806970bbf877444880b6ee4503b38079"
      }
     },
     "f0c8347f836c4f1cae442d1d239a8941": {
      "model_module": "jupyter-js-widgets",
      "model_module_version": "~2.1.4",
      "model_name": "ButtonStyleModel",
      "state": {
       "_model_module_version": "~2.1.4",
       "_view_module_version": "~2.1.4"
      }
     },
     "f31acfd36e4546a283756dc38eb35050": {
      "model_module": "jupyter-js-widgets",
      "model_module_version": "~2.1.4",
      "model_name": "ButtonModel",
      "state": {
       "_model_module_version": "~2.1.4",
       "_view_module_version": "~2.1.4",
       "description": "Home",
       "layout": "IPY_MODEL_74572dc93316426288e2cecf2270c1f8",
       "style": "IPY_MODEL_7eac37588da3465b8d5b4be05fd0c55d"
      }
     }
    },
    "version_major": 1,
    "version_minor": 0
   }
  }
 },
 "nbformat": 4,
 "nbformat_minor": 2
}
