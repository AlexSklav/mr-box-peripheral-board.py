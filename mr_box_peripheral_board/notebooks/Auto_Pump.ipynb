{
 "cells": [
  {
   "cell_type": "code",
   "execution_count": 11,
   "metadata": {},
   "outputs": [
    {
     "name": "stderr",
     "output_type": "stream",
     "text": [
      "DEBUG:serial_device.threaded:Connection to port `COM11` closed\n",
      "DEBUG:base_node_rpc.proxy:Connection lost `COM11`\n",
      "DEBUG:base_node_rpc.proxy:Attempt to connect to device on port COM11 (baudrate=115200)\n",
      "DEBUG:serial_device.threaded:Open `COM11` and monitor connection status\n",
      "DEBUG:serial_device.threaded:connection_made: `COM11` `<ReaderThread(Thread-21, started daemon 3948)>`\n",
      "DEBUG:base_node_rpc.proxy:Wait for connection to port COM11\n",
      "INFO:base_node_rpc.proxy:Successfully connected to dropbot on port COM11\n"
     ]
    },
    {
     "name": "stdout",
     "output_type": "stream",
     "text": [
      "base_node_software_version                                         0.26\n",
      "package_name                                                    dropbot\n",
      "display_name                                                    DropBot\n",
      "manufacturer                                              Sci-Bots Inc.\n",
      "url                           http://gitlab.com/sci-bots/dropbot.py.git\n",
      "software_version                                                   1.19\n",
      "dtype: object\n"
     ]
    },
    {
     "name": "stderr",
     "output_type": "stream",
     "text": [
      "DEBUG:serial_device.threaded:connection_made: `COM12` `<ReaderThread(Thread-22, started daemon 8168)>`\n",
      "DEBUG:base_node_rpc.proxy:Reconnected to `COM12`\n",
      "DEBUG:serial_device.threaded:Connection to port `COM12` closed\n",
      "DEBUG:base_node_rpc.proxy:Attempt to connect to device on port COM12 (baudrate=57600)\n",
      "DEBUG:base_node_rpc.proxy:Connection lost `COM12`\n",
      "DEBUG:serial_device.threaded:Open `COM12` and monitor connection status\n",
      "DEBUG:base_node_rpc.proxy:Wait for connection to port COM12\n",
      "DEBUG:base_node_rpc.proxy:Attempt to connect to device on port COM12 (baudrate=57600)\n",
      "DEBUG:serial_device.threaded:Open `COM12` and monitor connection status\n",
      "DEBUG:serial_device.threaded:connection_made: `COM12` `<ReaderThread(Thread-25, started daemon 9152)>`\n",
      "DEBUG:base_node_rpc.proxy:Wait for connection to port COM12\n",
      "INFO:base_node_rpc.proxy:Successfully connected to mr-box-peripheral-board on port COM12\n"
     ]
    }
   ],
   "source": [
    "import dropbot\n",
    "import logging; logging.basicConfig(level=logging.DEBUG)\n",
    "import time\n",
    "\n",
    "import mr_box_peripheral_board as mrbox\n",
    "import serial\n",
    "import numpy as np\n",
    "\n",
    "#Connect to dropbot\n",
    "try:\n",
    "    db_proxy.terminate()\n",
    "except:\n",
    "    pass\n",
    "\n",
    "db_proxy = dropbot.SerialProxy()\n",
    "print db_proxy.properties\n",
    "\n",
    "#Turn on Channel 24 - Pump reservoir\n",
    "db_proxy.hv_output_enabled = True\n",
    "db_proxy.hv_output_selected = True\n",
    "db_proxy.voltage = 100\n",
    "\n",
    "state = np.zeros(db_proxy.number_of_channels)\n",
    "state[24] = 1\n",
    "db_proxy.state_of_channels = state\n",
    "\n",
    "capacitance = []\n",
    "\n",
    "#Connect to peripheral\n",
    "reload(mrbox)\n",
    "\n",
    "# Try to connect to MR-Box control board.\n",
    "retry_count = 2\n",
    "for i in xrange(retry_count):\n",
    "    try:\n",
    "        proxy.terminate()\n",
    "    except NameError:\n",
    "        pass\n",
    "    try:\n",
    "        proxy = mrbox.SerialProxy(port='COM12',baudrate=57600, settling_time_s=2.5)\n",
    "        break\n",
    "    except serial.SerialException:\n",
    "        time.sleep(1)\n",
    "else:\n",
    "    raise IOError('Could not connect to MR-Box control board.')\n",
    "    \n",
    "proxy._timeout_s = 20"
   ]
  },
  {
   "cell_type": "code",
   "execution_count": 26,
   "metadata": {},
   "outputs": [
    {
     "data": {
      "text/plain": [
       "[<matplotlib.lines.Line2D at 0xae534d0>]"
      ]
     },
     "execution_count": 26,
     "metadata": {},
     "output_type": "execute_result"
    },
    {
     "data": {
      "image/png": "[encoded data removed]",
      "text/plain": [
       "<matplotlib.figure.Figure at 0xad38270>"
      ]
     },
     "metadata": {},
     "output_type": "display_data"
    }
   ],
   "source": [
    "cap=0\n",
    "x = []\n",
    "for i in range(0,100):\n",
    "    x.append(db_proxy.measure_capacitance())\n",
    "cap = sum(x)/len(x) \n",
    "capacitance.append(cap)\n",
    "#print capacitance\n",
    "\n",
    "import dropbot.hardware_test\n",
    "import matplotlib.pyplot as plt\n",
    "import matplotlib.ticker as mtick\n",
    "%matplotlib inline\n",
    "\n",
    "fig = plt.figure()\n",
    "ax = fig.add_subplot(111)\n",
    "ax.set_ylabel('Capacitance, F', fontsize=14)\n",
    "ax.yaxis.set_major_formatter(mtick.FormatStrFormatter('%.1e'))\n",
    "\n",
    "ax.plot(capacitance)"
   ]
  },
  {
   "cell_type": "code",
   "execution_count": 31,
   "metadata": {
    "collapsed": true
   },
   "outputs": [],
   "source": [
    "state[23] = \n",
    "db_proxy.state_of_channels = state"
   ]
  },
  {
   "cell_type": "code",
   "execution_count": 30,
   "metadata": {},
   "outputs": [
    {
     "name": "stdout",
     "output_type": "stream",
     "text": [
      "Capacitance of empty reservoir: 1.81147415718e-11\n",
      "Capacitance of filled reservoir: 2.11387285282e-10\n"
     ]
    }
   ],
   "source": [
    "import time\n",
    "proxy.pump_frequency_set(10000)\n",
    "state[24] = 1\n",
    "db_proxy.state_of_channels = state\n",
    "\n",
    "for i in range(0,100):\n",
    "    x.append(db_proxy.measure_capacitance())\n",
    "cap_ini = sum(x)/len(x)\n",
    "print 'Capacitance of empty reservoir: %s'%cap_ini\n",
    "cap = cap_ini\n",
    "start_time = time.time()\n",
    "end_time = start_time\n",
    "dt = end_time-start_time\n",
    "while ((cap<cap_ini*15) and (dt<10)):\n",
    "    proxy.pump_activate()\n",
    "    x = []\n",
    "    for i in range(0,10):\n",
    "        x.append(db_proxy.measure_capacitance())\n",
    "    cap = sum(x)/len(x)  \n",
    "    end_time = time.time()\n",
    "    dt = end_time-start_time\n",
    "    proxy.pump_deactivate()\n",
    "print 'Capacitance of filled reservoir: %s'%cap"
   ]
  },
  {
   "cell_type": "code",
   "execution_count": null,
   "metadata": {
    "collapsed": true
   },
   "outputs": [],
   "source": []
  }
 ],
 "metadata": {
  "kernelspec": {
   "display_name": "Python 2",
   "language": "python",
   "name": "python2"
  },
  "language_info": {
   "codemirror_mode": {
    "name": "ipython",
    "version": 2
   },
   "file_extension": ".py",
   "mimetype": "text/x-python",
   "name": "python",
   "nbconvert_exporter": "python",
   "pygments_lexer": "ipython2",
   "version": "2.7.13"
  }
 },
 "nbformat": 4,
 "nbformat_minor": 2
}
