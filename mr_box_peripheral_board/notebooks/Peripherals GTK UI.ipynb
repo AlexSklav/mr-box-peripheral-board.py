{
 "cells": [
  {
   "cell_type": "markdown",
   "metadata": {
    "toc": "true"
   },
   "source": [
    "# Table of Contents\n",
    " <p><div class=\"lev1 toc-item\"><a href=\"#PMT/ADC\" data-toc-modified-id=\"PMT/ADC-1\"><span class=\"toc-item-num\">1&nbsp;&nbsp;</span>PMT/ADC</a></div><div class=\"lev2 toc-item\"><a href=\"#Example-of-how-to-compress-bytes-(e.g.,-JSON)-to-bzip2\" data-toc-modified-id=\"Example-of-how-to-compress-bytes-(e.g.,-JSON)-to-bzip2-11\"><span class=\"toc-item-num\">1.1&nbsp;&nbsp;</span>Example of how to compress bytes (e.g., JSON) to bzip2</a></div><div class=\"lev1 toc-item\"><a href=\"#Pump\" data-toc-modified-id=\"Pump-2\"><span class=\"toc-item-num\">2&nbsp;&nbsp;</span>Pump</a></div>"
   ]
  },
  {
   "cell_type": "markdown",
   "metadata": {},
   "source": [
    "# PMT/ADC"
   ]
  },
  {
   "cell_type": "code",
   "execution_count": null,
   "metadata": {
    "ExecuteTime": {
     "end_time": "2017-08-04T10:03:33.302000Z",
     "start_time": "2017-08-04T10:03:27.434000Z"
    }
   },
   "outputs": [],
   "source": [
    "import gtk\n",
    "import gobject\n",
    "import threading\n",
    "import datetime as dt\n",
    "\n",
    "import matplotlib as mpl\n",
    "import matplotlib.style\n",
    "import numpy as np\n",
    "import pandas as pd\n",
    "\n",
    "from streaming_plot import StreamingPlot\n",
    "\n",
    "\n",
    "def _generate_data(stop_event, data_ready, data):\n",
    "    delta_t = dt.timedelta(seconds=.1)\n",
    "    samples_per_plot = 5\n",
    "\n",
    "    while True:\n",
    "        time_0 = dt.datetime.now()\n",
    "        values_i = np.random.rand(samples_per_plot)\n",
    "        absolute_times_i = pd.Series([time_0 + i * delta_t\n",
    "                                      for i in xrange(len(values_i))])\n",
    "        data_i = pd.Series(values_i, index=absolute_times_i)\n",
    "        data.append(data_i)\n",
    "        data_ready.set()\n",
    "        if stop_event.wait(samples_per_plot *\n",
    "                           delta_t.total_seconds()):\n",
    "            break\n",
    "        \n",
    "with mpl.style.context('seaborn',\n",
    "                       {'image.cmap': 'gray',\n",
    "                        'image.interpolation' : 'none'}):\n",
    "    win = gtk.Window()\n",
    "    win.set_default_size(800, 600)\n",
    "    view = StreamingPlot(data_func=_generate_data)\n",
    "    win.add(view.widget)\n",
    "    win.connect('check-resize', lambda *args: view.on_resize())\n",
    "    win.set_position(gtk.WIN_POS_MOUSE)\n",
    "    win.show_all()\n",
    "    view.fig.tight_layout()\n",
    "    win.connect('destroy', gtk.main_quit)\n",
    "    gobject.idle_add(view.start)\n",
    "    \n",
    "    def auto_close(*args):\n",
    "        if not view.stop_event.is_set():\n",
    "            # User did not explicitly pause the measurement.  Automatically\n",
    "            # close the measurement and continue.\n",
    "            win.destroy()\n",
    "    gobject.timeout_add(5000, auto_close)\n",
    "    \n",
    "    measurement_complete = threading.Event()\n",
    "    \n",
    "    view.widget.connect('destroy', lambda *args: measurement_complete.set())\n",
    "\n",
    "    gtk.gdk.threads_init()\n",
    "    gtk.gdk.threads_enter()\n",
    "    gtk.main()\n",
    "    gtk.gdk.threads_leave()\n",
    "    \n",
    "    print measurement_complete.wait()"
   ]
  },
  {
   "cell_type": "markdown",
   "metadata": {},
   "source": [
    "## Example of how to compress bytes (e.g., JSON) to bzip2"
   ]
  },
  {
   "cell_type": "code",
   "execution_count": null,
   "metadata": {
    "ExecuteTime": {
     "end_time": "2017-08-04T07:04:14.111000Z",
     "start_time": "2017-08-04T07:04:14.080000Z"
    },
    "collapsed": true
   },
   "outputs": [],
   "source": [
    "from IPython.display import display\n",
    "import bz2\n",
    "\n",
    "\n",
    "data = pd.concat(view.data)\n",
    "data_json = data.to_json()\n",
    "data_json_bz2 = bz2.compress(data_json)\n",
    "data_from_json = pd.read_json(bz2.decompress(data_json_bz2), typ='series')\n",
    "len(data_json), len(data_json_bz2)"
   ]
  },
  {
   "cell_type": "markdown",
   "metadata": {},
   "source": [
    "------------------------------------------------------------------------"
   ]
  },
  {
   "cell_type": "markdown",
   "metadata": {},
   "source": [
    "# Pump #"
   ]
  },
  {
   "cell_type": "code",
   "execution_count": null,
   "metadata": {
    "ExecuteTime": {
     "end_time": "2017-08-04T10:09:42.079000Z",
     "start_time": "2017-08-04T10:08:53.484000Z"
    }
   },
   "outputs": [],
   "source": [
    "import gobject\n",
    "import gtk\n",
    "\n",
    "from pump_gtk_ui import PumpControl\n",
    "\n",
    "\n",
    "win = gtk.Window()\n",
    "win.set_modal(True)\n",
    "win.set_default_size(480, 150)\n",
    "\n",
    "pump_control_view = PumpControl(None)\n",
    "win.add(pump_control_view.widget)\n",
    "win.set_position(gtk.WIN_POS_MOUSE)\n",
    "win.show_all()\n",
    "gobject.idle_add(pump_control_view.start)\n",
    "win.connect('destroy', gtk.main_quit)\n",
    "gtk.gdk.threads_init()\n",
    "gtk.main()"
   ]
  }
 ],
 "metadata": {
  "kernelspec": {
   "display_name": "Python 2",
   "language": "python",
   "name": "python2"
  },
  "language_info": {
   "codemirror_mode": {
    "name": "ipython",
    "version": 2
   },
   "file_extension": ".py",
   "mimetype": "text/x-python",
   "name": "python",
   "nbconvert_exporter": "python",
   "pygments_lexer": "ipython2",
   "version": "2.7.13"
  },
  "toc": {
   "colors": {
    "hover_highlight": "#DAA520",
    "navigate_num": "#000000",
    "navigate_text": "#333333",
    "running_highlight": "#FF0000",
    "selected_highlight": "#FFD700",
    "sidebar_border": "#EEEEEE",
    "wrapper_background": "#FFFFFF"
   },
   "moveMenuLeft": true,
   "nav_menu": {
    "height": "12px",
    "width": "252px"
   },
   "navigate_menu": true,
   "number_sections": true,
   "sideBar": true,
   "threshold": 4,
   "toc_cell": true,
   "toc_section_display": "block",
   "toc_window_display": true,
   "widenNotebook": false
  }
 },
 "nbformat": 4,
 "nbformat_minor": 2
}
