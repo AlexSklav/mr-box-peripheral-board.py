{
 "cells": [
  {
   "cell_type": "code",
   "execution_count": 1,
   "metadata": {},
   "outputs": [
    {
     "name": "stderr",
     "output_type": "stream",
     "text": [
      "DEBUG:base_node_rpc.proxy:Attempt to connect to device on port COM11 (baudrate=115200)\n",
      "DEBUG:serial_device.threaded:Open `COM11` and monitor connection status\n",
      "DEBUG:serial_device.threaded:connection_made: `COM11` `<ReaderThread(Thread-11, started daemon 10216)>`\n",
      "DEBUG:base_node_rpc.proxy:Wait for connection to port COM11\n",
      "INFO:base_node_rpc.proxy:Successfully connected to dropbot on port COM11\n"
     ]
    },
    {
     "name": "stdout",
     "output_type": "stream",
     "text": [
      "base_node_software_version                                         0.26\n",
      "package_name                                                    dropbot\n",
      "display_name                                                    DropBot\n",
      "manufacturer                                              Sci-Bots Inc.\n",
      "url                           http://gitlab.com/sci-bots/dropbot.py.git\n",
      "software_version                                                   1.19\n",
      "dtype: object\n"
     ]
    },
    {
     "name": "stderr",
     "output_type": "stream",
     "text": [
      "DEBUG:base_node_rpc.proxy:Attempt to connect to device on port COM12 (baudrate=57600)\n",
      "DEBUG:serial_device.threaded:Open `COM12` and monitor connection status\n",
      "DEBUG:serial_device.threaded:connection_made: `COM12` `<ReaderThread(Thread-13, started daemon 2468)>`\n",
      "DEBUG:base_node_rpc.proxy:Wait for connection to port COM12\n",
      "INFO:base_node_rpc.proxy:Successfully connected to mr-box-peripheral-board on port COM12\n"
     ]
    }
   ],
   "source": [
    "import dropbot\n",
    "import logging; logging.basicConfig(level=logging.DEBUG)\n",
    "import time\n",
    "\n",
    "import mr_box_peripheral_board as mrbox\n",
    "import serial\n",
    "import numpy as np\n",
    "\n",
    "#Connect to dropbot\n",
    "try:\n",
    "    db_proxy.terminate()\n",
    "except:\n",
    "    pass\n",
    "\n",
    "db_proxy = dropbot.SerialProxy()\n",
    "print db_proxy.properties\n",
    "\n",
    "#Turn on Channel 24 - Pump reservoir\n",
    "db_proxy.hv_output_enabled = True\n",
    "db_proxy.hv_output_selected = True\n",
    "db_proxy.voltage = 100\n",
    "\n",
    "state = np.zeros(db_proxy.number_of_channels)\n",
    "state[24] = 1\n",
    "db_proxy.state_of_channels = state\n",
    "\n",
    "capacitance = []\n",
    "\n",
    "#Connect to peripheral\n",
    "reload(mrbox)\n",
    "\n",
    "# Try to connect to MR-Box control board.\n",
    "retry_count = 2\n",
    "for i in xrange(retry_count):\n",
    "    try:\n",
    "        proxy.terminate()\n",
    "    except NameError:\n",
    "        pass\n",
    "    try:\n",
    "        proxy = mrbox.SerialProxy(port='COM12',baudrate=57600, settling_time_s=2.5)\n",
    "        break\n",
    "    except serial.SerialException:\n",
    "        time.sleep(1)\n",
    "else:\n",
    "    raise IOError('Could not connect to MR-Box control board.')\n",
    "    \n",
    "proxy._timeout_s = 20"
   ]
  },
  {
   "cell_type": "code",
   "execution_count": 2,
   "metadata": {},
   "outputs": [
    {
     "data": {
      "text/plain": [
       "[<matplotlib.lines.Line2D at 0x943ef70>]"
      ]
     },
     "execution_count": 2,
     "metadata": {},
     "output_type": "execute_result"
    },
    {
     "data": {
      "image/png": "[encoded data removed]",
      "text/plain": [
       "<matplotlib.figure.Figure at 0x934b0f0>"
      ]
     },
     "metadata": {},
     "output_type": "display_data"
    }
   ],
   "source": [
    "cap=0\n",
    "x = []\n",
    "for i in range(0,100):\n",
    "    x.append(db_proxy.measure_capacitance())\n",
    "cap = sum(x)/len(x) \n",
    "capacitance.append(cap)\n",
    "#print capacitance\n",
    "\n",
    "import dropbot.hardware_test\n",
    "import matplotlib.pyplot as plt\n",
    "import matplotlib.ticker as mtick\n",
    "%matplotlib inline\n",
    "\n",
    "fig = plt.figure()\n",
    "ax = fig.add_subplot(111)\n",
    "ax.set_ylabel('Capacitance, F', fontsize=14)\n",
    "ax.yaxis.set_major_formatter(mtick.FormatStrFormatter('%.1e'))\n",
    "\n",
    "ax.plot(capacitance)"
   ]
  },
  {
   "cell_type": "code",
   "execution_count": 5,
   "metadata": {},
   "outputs": [],
   "source": [
    "state[23] = 0\n",
    "db_proxy.state_of_channels = state"
   ]
  },
  {
   "cell_type": "code",
   "execution_count": 9,
   "metadata": {},
   "outputs": [
    {
     "name": "stdout",
     "output_type": "stream",
     "text": [
      "Capacitance of empty reservoir: 5.40178176994e-11\n",
      "Capacitance of filled reservoir: 2.17497503705e-10\n"
     ]
    }
   ],
   "source": [
    "import time\n",
    "proxy.pump_frequency_set(10000)\n",
    "state[24] = 1\n",
    "db_proxy.state_of_channels = state\n",
    "\n",
    "for i in range(0,100):\n",
    "    x.append(db_proxy.measure_capacitance())\n",
    "cap_ini = sum(x)/len(x)\n",
    "print 'Capacitance of empty reservoir: %s'%cap_ini\n",
    "cap = cap_ini\n",
    "start_time = time.time()\n",
    "end_time = start_time\n",
    "dt = end_time-start_time\n",
    "c = []\n",
    "while ((cap<cap_ini*15) and (dt<10)):\n",
    "    proxy.pump_activate()\n",
    "    x = []\n",
    "    for i in range(0,10):\n",
    "        x.append(db_proxy.measure_capacitance())\n",
    "    cap = sum(x)/len(x)\n",
    "    c.append(cap)\n",
    "    end_time = time.time()\n",
    "    dt = end_time-start_time\n",
    "    proxy.pump_deactivate()\n",
    "print 'Capacitance of filled reservoir: %s'%cap"
   ]
  },
  {
   "cell_type": "code",
   "execution_count": 10,
   "metadata": {},
   "outputs": [
    {
     "data": {
      "text/plain": [
       "[<matplotlib.lines.Line2D at 0x97b8890>]"
      ]
     },
     "execution_count": 10,
     "metadata": {},
     "output_type": "execute_result"
    },
    {
     "data": {
      "image/png": "[encoded data removed]",
      "text/plain": [
       "<matplotlib.figure.Figure at 0x956dcf0>"
      ]
     },
     "metadata": {},
     "output_type": "display_data"
    }
   ],
   "source": [
    "import matplotlib.pyplot as plt\n",
    "%matplotlib inline\n",
    "plt.plot(c)"
   ]
  },
  {
   "cell_type": "code",
   "execution_count": 12,
   "metadata": {},
   "outputs": [
    {
     "name": "stdout",
     "output_type": "stream",
     "text": [
      "Capacitance of reservoir: 1.9126987569e-10\n"
     ]
    }
   ],
   "source": [
    "max_cap = 0\n",
    "mc=[]\n",
    "for i in range(0,100):\n",
    "    mc.append(db_proxy.measure_capacitance())\n",
    "max_cap = sum(mc)/len(mc)\n",
    "print 'Capacitance of reservoir: %s'%max_cap"
   ]
  },
  {
   "cell_type": "code",
   "execution_count": 129,
   "metadata": {},
   "outputs": [
    {
     "name": "stdout",
     "output_type": "stream",
     "text": [
      "Capacitance of filled reservoir: 2.06729595521e-10\n"
     ]
    },
    {
     "data": {
      "image/png": "[encoded data removed]",
      "text/plain": [
       "<matplotlib.figure.Figure at 0xdfc5090>"
      ]
     },
     "metadata": {},
     "output_type": "display_data"
    },
    {
     "name": "stderr",
     "output_type": "stream",
     "text": [
      "DEBUG:serial_device.threaded:Connection to port `COM11` lost: call to ClearCommError failed\n",
      "DEBUG:serial_device.threaded:Connection to port `COM12` lost: call to ClearCommError failed\n",
      "DEBUG:base_node_rpc.proxy:Connection lost `COM11`\n",
      "DEBUG:base_node_rpc.proxy:Connection lost `COM12`\n",
      "DEBUG:serial_device.threaded:Open `COM11` and monitor connection status\n",
      "DEBUG:serial_device.threaded:Open `COM12` and monitor connection status\n"
     ]
    }
   ],
   "source": [
    "import matplotlib.pyplot as plt\n",
    "%matplotlib inline\n",
    "import time\n",
    "\n",
    "proxy.pump_frequency_set(8000)\n",
    "state[24] = 1\n",
    "db_proxy.state_of_channels = state\n",
    "\n",
    "cap = 0\n",
    "max_cp = round(max_cap, 12)\n",
    "start_time = time.time()\n",
    "end_time = start_time\n",
    "dt = end_time-start_time\n",
    "c=[]\n",
    "while ((cap< max_cp) and (dt<5)):\n",
    "    proxy.pump_activate()\n",
    "    x = []\n",
    "    for i in range(0,10):\n",
    "        x.append(db_proxy.measure_capacitance())\n",
    "    cap = sum(x)/len(x)\n",
    "    c.append(cap)\n",
    "    end_time = time.time()\n",
    "    dt = end_time-start_time\n",
    "    proxy.pump_deactivate()\n",
    "for i in range(0,100):\n",
    "    x.append(db_proxy.measure_capacitance())\n",
    "cap = sum(x)/len(x)\n",
    "print 'Capacitance of filled reservoir: %s'%cap\n",
    "plt.plot(c)\n",
    "tries.append(c)"
   ]
  },
  {
   "cell_type": "code",
   "execution_count": 108,
   "metadata": {},
   "outputs": [],
   "source": [
    "import pandas as pd\n",
    "\n",
    "df = pd.DataFrame(tries)\n",
    "df = df.transpose()\n"
   ]
  },
  {
   "cell_type": "code",
   "execution_count": 117,
   "metadata": {},
   "outputs": [
    {
     "data": {
      "text/plain": [
       "[<matplotlib.lines.Line2D at 0xe6e1db0>,\n",
       " <matplotlib.lines.Line2D at 0xe6e1e90>,\n",
       " <matplotlib.lines.Line2D at 0xe6e1f50>,\n",
       " <matplotlib.lines.Line2D at 0xe6e1ff0>,\n",
       " <matplotlib.lines.Line2D at 0xe6f00b0>,\n",
       " <matplotlib.lines.Line2D at 0xe6f0150>,\n",
       " <matplotlib.lines.Line2D at 0xe6f01f0>,\n",
       " <matplotlib.lines.Line2D at 0xe6f0290>,\n",
       " <matplotlib.lines.Line2D at 0xe6f0330>,\n",
       " <matplotlib.lines.Line2D at 0xe6f03d0>,\n",
       " <matplotlib.lines.Line2D at 0xe6f0470>,\n",
       " <matplotlib.lines.Line2D at 0xe6f0510>,\n",
       " <matplotlib.lines.Line2D at 0xe6f05b0>,\n",
       " <matplotlib.lines.Line2D at 0xe6f0650>,\n",
       " <matplotlib.lines.Line2D at 0xe6f06f0>,\n",
       " <matplotlib.lines.Line2D at 0xe6f0790>,\n",
       " <matplotlib.lines.Line2D at 0xe6f0830>,\n",
       " <matplotlib.lines.Line2D at 0xe6f08d0>,\n",
       " <matplotlib.lines.Line2D at 0xe6f0970>,\n",
       " <matplotlib.lines.Line2D at 0xe6f0a10>,\n",
       " <matplotlib.lines.Line2D at 0xe591990>,\n",
       " <matplotlib.lines.Line2D at 0xe6f0b50>,\n",
       " <matplotlib.lines.Line2D at 0xe6f0bf0>,\n",
       " <matplotlib.lines.Line2D at 0xe6f0c90>,\n",
       " <matplotlib.lines.Line2D at 0xe6f0d30>,\n",
       " <matplotlib.lines.Line2D at 0xe6f0dd0>,\n",
       " <matplotlib.lines.Line2D at 0xe6f0e70>,\n",
       " <matplotlib.lines.Line2D at 0xe6f0f10>,\n",
       " <matplotlib.lines.Line2D at 0xe6f0fb0>,\n",
       " <matplotlib.lines.Line2D at 0xe6f0ff0>,\n",
       " <matplotlib.lines.Line2D at 0xe6f0a50>,\n",
       " <matplotlib.lines.Line2D at 0xe6fa1b0>,\n",
       " <matplotlib.lines.Line2D at 0xe6fa250>,\n",
       " <matplotlib.lines.Line2D at 0xe6fa2f0>,\n",
       " <matplotlib.lines.Line2D at 0xe6fa390>,\n",
       " <matplotlib.lines.Line2D at 0xe6fa430>,\n",
       " <matplotlib.lines.Line2D at 0xe6fa4d0>,\n",
       " <matplotlib.lines.Line2D at 0xe6fa570>,\n",
       " <matplotlib.lines.Line2D at 0xe6fa610>,\n",
       " <matplotlib.lines.Line2D at 0xe6fa6b0>,\n",
       " <matplotlib.lines.Line2D at 0xe6fa750>,\n",
       " <matplotlib.lines.Line2D at 0xe6fa7f0>,\n",
       " <matplotlib.lines.Line2D at 0xe6fa890>,\n",
       " <matplotlib.lines.Line2D at 0xe6fa930>,\n",
       " <matplotlib.lines.Line2D at 0xe6fa9d0>,\n",
       " <matplotlib.lines.Line2D at 0xe6faa70>,\n",
       " <matplotlib.lines.Line2D at 0xe6fab10>,\n",
       " <matplotlib.lines.Line2D at 0xe6fabb0>,\n",
       " <matplotlib.lines.Line2D at 0xe6fac50>,\n",
       " <matplotlib.lines.Line2D at 0xe6facf0>,\n",
       " <matplotlib.lines.Line2D at 0xe6fad90>,\n",
       " <matplotlib.lines.Line2D at 0xe6fae30>,\n",
       " <matplotlib.lines.Line2D at 0xe6faed0>,\n",
       " <matplotlib.lines.Line2D at 0xe6faf70>,\n",
       " <matplotlib.lines.Line2D at 0xe6fafb0>,\n",
       " <matplotlib.lines.Line2D at 0xe7050d0>,\n",
       " <matplotlib.lines.Line2D at 0xe705170>,\n",
       " <matplotlib.lines.Line2D at 0xe705210>,\n",
       " <matplotlib.lines.Line2D at 0xe7052b0>,\n",
       " <matplotlib.lines.Line2D at 0xe705350>,\n",
       " <matplotlib.lines.Line2D at 0xe6fad30>,\n",
       " <matplotlib.lines.Line2D at 0xe705490>,\n",
       " <matplotlib.lines.Line2D at 0xe705530>,\n",
       " <matplotlib.lines.Line2D at 0xe7055d0>,\n",
       " <matplotlib.lines.Line2D at 0xe705670>,\n",
       " <matplotlib.lines.Line2D at 0xe705710>,\n",
       " <matplotlib.lines.Line2D at 0xe7057b0>,\n",
       " <matplotlib.lines.Line2D at 0xe705850>,\n",
       " <matplotlib.lines.Line2D at 0xe7058f0>,\n",
       " <matplotlib.lines.Line2D at 0xe705990>,\n",
       " <matplotlib.lines.Line2D at 0xe705a30>,\n",
       " <matplotlib.lines.Line2D at 0xe705ad0>,\n",
       " <matplotlib.lines.Line2D at 0xe705b70>]"
      ]
     },
     "execution_count": 117,
     "metadata": {},
     "output_type": "execute_result"
    },
    {
     "data": {
      "image/png": "[encoded data removed]",
      "text/plain": [
       "<matplotlib.figure.Figure at 0xbf1ccf0>"
      ]
     },
     "metadata": {},
     "output_type": "display_data"
    }
   ],
   "source": [
    "import seaborn\n",
    "f, ax = plt.subplots()\n",
    "\n",
    "ax.plot(df)"
   ]
  },
  {
   "cell_type": "code",
   "execution_count": null,
   "metadata": {
    "collapsed": true
   },
   "outputs": [],
   "source": []
  }
 ],
 "metadata": {
  "kernelspec": {
   "display_name": "Python 2",
   "language": "python",
   "name": "python2"
  },
  "language_info": {
   "codemirror_mode": {
    "name": "ipython",
    "version": 2
   },
   "file_extension": ".py",
   "mimetype": "text/x-python",
   "name": "python",
   "nbconvert_exporter": "python",
   "pygments_lexer": "ipython2",
   "version": "2.7.13"
  }
 },
 "nbformat": 4,
 "nbformat_minor": 2
}
